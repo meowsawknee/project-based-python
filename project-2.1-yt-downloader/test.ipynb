{
 "cells": [
  {
   "cell_type": "code",
   "execution_count": 1,
   "id": "b6048c21",
   "metadata": {},
   "outputs": [],
   "source": [
    "# link migire\n",
    "# bayad ba link chikar kone?\n",
    "# bad ye seri option pishnahad bede\n",
    "# keyfiat\n",
    "# pytube  \n",
    "# faqat seda ya na ?\n"
   ]
  },
  {
   "cell_type": "code",
   "execution_count": 2,
   "id": "5cba4c45",
   "metadata": {},
   "outputs": [],
   "source": [
    "from pytube import YouTube"
   ]
  }
 ],
 "metadata": {
  "kernelspec": {
   "display_name": "pbpenv",
   "language": "python",
   "name": "python3"
  },
  "language_info": {
   "codemirror_mode": {
    "name": "ipython",
    "version": 3
   },
   "file_extension": ".py",
   "mimetype": "text/x-python",
   "name": "python",
   "nbconvert_exporter": "python",
   "pygments_lexer": "ipython3",
   "version": "3.11.11"
  }
 },
 "nbformat": 4,
 "nbformat_minor": 5
}
