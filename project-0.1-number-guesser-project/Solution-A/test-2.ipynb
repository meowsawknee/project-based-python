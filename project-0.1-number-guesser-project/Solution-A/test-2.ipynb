{
 "cells": [
  {
   "cell_type": "code",
   "execution_count": 1,
   "id": "8917fb1c",
   "metadata": {},
   "outputs": [
    {
     "data": {
      "text/plain": [
       "'\\n🎯 Project: Number Guesser Game\\n\\nThis is a beginner-friendly Python project originally based on the version provided in the Pytopiaa course.\\nIn this version, we\\'ve enhanced modularity, added documentation, and applied clean coding principles.\\nIt also includes a proper \"Game Over\" state when the score reaches zero.\\n\\nFeatures:\\n- Random number generation between 1 and 100\\n- Input validation\\n- Hint system (higher/lower)\\n- Scoring system (starts from 100 and reduces by 10)\\n- Ends automatically if score hits 0 (Game Over)\\n- Option to quit anytime\\n- Option to play multiple rounds\\n\\nStructure:\\nThis version follows Solution A - all logic is in a single Python file.\\nWhile it lacks modularity, it\\'s perfect for learning core concepts like:\\n- Input handling\\n- Functions\\n- Control flow\\n- Simple game loop design\\n\\nAuthor: Hossein Mehrabi\\n\\n'"
      ]
     },
     "execution_count": 1,
     "metadata": {},
     "output_type": "execute_result"
    }
   ],
   "source": [
    "    \"\"\"\n",
    "    🎯 Project: Number Guesser Game\n",
    "\n",
    "    This is a beginner-friendly Python project originally based on the version provided in the Pytopiaa course.\n",
    "    In this version, we've enhanced modularity, added documentation, and applied clean coding principles.\n",
    "    It also includes a proper \"Game Over\" state when the score reaches zero.\n",
    "\n",
    "    Features:\n",
    "    - Random number generation between 1 and 100\n",
    "    - Input validation\n",
    "    - Hint system (higher/lower)\n",
    "    - Scoring system (starts from 100 and reduces by 10)\n",
    "    - Ends automatically if score hits 0 (Game Over)\n",
    "    - Option to quit anytime\n",
    "    - Option to play multiple rounds\n",
    "\n",
    "    Structure:\n",
    "    This version follows Solution A - all logic is in a single Python file.\n",
    "    While it lacks modularity, it's perfect for learning core concepts like:\n",
    "    - Input handling\n",
    "    - Functions\n",
    "    - Control flow\n",
    "    - Simple game loop design\n",
    "\n",
    "    Author: Hossein Mehrabi\n",
    "        \n",
    "    \"\"\""
   ]
  },
  {
   "cell_type": "code",
   "execution_count": 2,
   "id": "e2318215",
   "metadata": {},
   "outputs": [],
   "source": [
    "import random\n",
    "\n",
    "\n",
    "# 🆕 Constants defined for configurability and cleaner logic\n",
    "MIN_NUM = 1\n",
    "MAX_NUM = 100\n",
    "MAX_SCORE = 100\n",
    "SCORE_REDUCTION = 10\n",
    "\n",
    "\n",
    "def validate_input(input_str: str) -> bool:\n",
    "    \"\"\"Validate if the input is a digit and within tha valid range.\"\"\"\n",
    "    # 🔁 Logic is based on the original Pytopia version,  with added type hints and docstring\n",
    "    if not input_str.isdigit():\n",
    "        print(\"Invalid input. Please enter a number.\")\n",
    "        return False\n",
    "    \n",
    "    num = int(input_str)\n",
    "    if num < MIN_NUM or num > MAX_NUM:\n",
    "        print(f\"Invalid input. Please enter a number between {MIN_NUM} and {MAX_NUM}.\")\n",
    "        return False\n",
    "    \n",
    "    \n",
    "    return True\n"
   ]
  },
  {
   "cell_type": "code",
   "execution_count": 3,
   "id": "73a376b2",
   "metadata": {},
   "outputs": [],
   "source": [
    "def get_valid_guess() -> int:\n",
    "    \"\"\"Prompt the user untill a valid guess is provided or 'q' is entered.\"\"\"\n",
    "    # 🆕 Extracted from the main loop to improve modularity and testability\n",
    "    while True:\n",
    "        guess = input(f\"Enter your guess between {MIN_NUM} and {MAX_NUM} (or 'q' to quit): \")\n",
    "        if guess == 'q':\n",
    "            return -1 # Sentinel value for quitting\n",
    "        \n",
    "        if validate_input(guess):\n",
    "            return int(guess)"
   ]
  },
  {
   "cell_type": "code",
   "execution_count": 4,
   "id": "244545d9",
   "metadata": {},
   "outputs": [],
   "source": [
    "def play_round() -> bool:\n",
    "    \"\"\"Play a single round of the guessting game.\"\"\"\n",
    "    # 🆕 Game loop extracted from the main function for clarity and reusability\n",
    "    random_number = random.randint(MIN_NUM, MAX_NUM)\n",
    "    score = MAX_SCORE\n",
    "\n",
    "    while True:\n",
    "        guess = get_valid_guess()\n",
    "        if guess == -1:\n",
    "            print(\"Goodbye!\")\n",
    "\n",
    "        if guess == random_number:\n",
    "            print(f\"You guessed correctly! Your score is: {score}\")\n",
    "            return ask_play_again()\n",
    "        \n",
    "        if guess > random_number:\n",
    "            print(\"You guessed too high!\")\n",
    "        else:\n",
    "            print(\"You guessed too low!\")\n",
    "        \n",
    "        # 🧠 Prevents score from going negative - not handled in the Pytopia version\n",
    "        score = max(score - SCORE_REDUCTION, 0)\n",
    "\n",
    "        if score == 0:\n",
    "            print(\"💀 Game Over! You've run out of points.\")\n",
    "            return ask_play_again()    "
   ]
  },
  {
   "cell_type": "code",
   "execution_count": 5,
   "id": "1beb7e08",
   "metadata": {},
   "outputs": [],
   "source": [
    "def ask_play_again() -> bool:\n",
    "    \"\"\"Ask the user whether they want to play another round.\"\"\"\n",
    "    # 🆕 Extracted from game loop to separate concerns\n",
    "    choice = input(\"Do you want to play again? (y/n): \").lower()\n",
    "    return choice == 'y' # more pythonic\n",
    "#   if choice == 'y':\n",
    "#       return True\n",
    "#   else:\n",
    "#       return False"
   ]
  },
  {
   "cell_type": "code",
   "execution_count": 6,
   "id": "9918a608",
   "metadata": {},
   "outputs": [],
   "source": [
    "def main():\n",
    "    \"\"\"Main entry point of the game.\"\"\"\n",
    "    # 🆕 Added a main() wrapper to structure execution more cleanly\n",
    "    print(\"🎮 Welcome to Number Guesser!\")\n",
    "    while play_round():\n",
    "        pass"
   ]
  },
  {
   "cell_type": "code",
   "execution_count": 9,
   "id": "49ab432b",
   "metadata": {},
   "outputs": [
    {
     "name": "stdout",
     "output_type": "stream",
     "text": [
      "🎮 Welcome to Number Guesser!\n",
      "You guessed too low!\n",
      "You guessed too low!\n",
      "You guessed too low!\n",
      "You guessed too low!\n",
      "You guessed too high!\n",
      "You guessed too high!\n",
      "You guessed correctly! Your score is: 40\n"
     ]
    }
   ],
   "source": [
    "if __name__ == \"__main__\":\n",
    "    # Standard guard to allow safe import without auto-execution\n",
    "    main()"
   ]
  }
 ],
 "metadata": {
  "kernelspec": {
   "display_name": "pbpenv",
   "language": "python",
   "name": "python3"
  },
  "language_info": {
   "codemirror_mode": {
    "name": "ipython",
    "version": 3
   },
   "file_extension": ".py",
   "mimetype": "text/x-python",
   "name": "python",
   "nbconvert_exporter": "python",
   "pygments_lexer": "ipython3",
   "version": "3.11.11"
  }
 },
 "nbformat": 4,
 "nbformat_minor": 5
}
