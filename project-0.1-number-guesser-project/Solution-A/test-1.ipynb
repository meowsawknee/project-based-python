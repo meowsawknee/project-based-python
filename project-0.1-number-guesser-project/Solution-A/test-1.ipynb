{
 "cells": [
  {
   "cell_type": "code",
   "execution_count": 1,
   "id": "f0fbab18",
   "metadata": {},
   "outputs": [
    {
     "name": "stdout",
     "output_type": "stream",
     "text": [
      "27\n"
     ]
    }
   ],
   "source": [
    "# Hold Ctrl and click on a function or class name \n",
    "# to navigate to its definition in VS Code.\n",
    "import random\n",
    "random_number = random.randint(1, 100) # returns a random int between 1 and 100, inclusive.\n",
    "print(random_number)"
   ]
  },
  {
   "cell_type": "code",
   "execution_count": 3,
   "id": "e37ed3ba",
   "metadata": {},
   "outputs": [],
   "source": [
    "# The structure of the number guesser requires a while loop to continuously check conditions.\n",
    "while True:\n",
    "    break"
   ]
  },
  {
   "cell_type": "code",
   "execution_count": 21,
   "id": "b2690fa5",
   "metadata": {},
   "outputs": [],
   "source": [
    "user_guess = input(\"Guess a number between 1 and 100: \")\n"
   ]
  },
  {
   "cell_type": "code",
   "execution_count": 23,
   "id": "2e7215a1",
   "metadata": {},
   "outputs": [],
   "source": [
    "# validation process\n",
    "# 1 < user_guess < 100\n",
    "# > 100\n",
    "# < 1\n",
    "# q for quit\n",
    "# anything else except for 1 < user_guess < 100"
   ]
  },
  {
   "cell_type": "code",
   "execution_count": null,
   "id": "31322e1b",
   "metadata": {},
   "outputs": [
    {
     "name": "stdout",
     "output_type": "stream",
     "text": [
      "6\n",
      "You is too low. Please try again.!\n",
      "34\n",
      "Your guess is too high. Please try again.\n",
      "Your guess is out of range! Please try again.\n",
      "8\n",
      "Congratulations! You guessed the correct number!\n",
      "Your score is: 80\n"
     ]
    }
   ],
   "source": [
    "score = 100\n",
    "attemps = 0\n",
    "\n",
    "while True:\n",
    "    user_guess = input(\"Guess a number between 1 and 100: \")\n",
    "    if user_guess == \"q\":\n",
    "        print(\"Thank you for playing. Goodbye!\")\n",
    "        break\n",
    "    if not user_guess.isdigit():\n",
    "        print(\"Invalid input. Please try again.\")\n",
    "        continue\n",
    "    user_guess = int(user_guess)\n",
    "    if user_guess > 100 or user_guess < 1:\n",
    "        print(\"Your guess is out of range! Please try again.\")\n",
    "        continue\n",
    "    \n",
    "    print(user_guess)\n",
    "    if random_number > user_guess:\n",
    "        print(\"You is too low. Please try again.!\")\n",
    "    elif random_number < user_guess:\n",
    "        print(\"Your guess is too high. Please try again.\")\n",
    "    else:\n",
    "        print(\"Congratulations! You guessed the correct number!\")\n",
    "        print(f\"Your score is: {score}\")\n",
    "        break\n",
    "    score -= 10\n",
    "    score = max(score, 0)\n"
   ]
  },
  {
   "cell_type": "code",
   "execution_count": 18,
   "id": "f626c177",
   "metadata": {},
   "outputs": [],
   "source": [
    "def validate_input(user_guess):\n",
    "    if not user_guess.isdigit():\n",
    "        print(\"Invalid input. Please try again.\")\n",
    "        return False\n",
    "    \n",
    "    user_guess = int(user_guess)\n",
    "    if user_guess > 100 or user_guess < 1:\n",
    "        print(\"Your guess is out of range.\")\n",
    "        return False\n",
    "    \n",
    "    return True"
   ]
  },
  {
   "cell_type": "code",
   "execution_count": 8,
   "id": "e7ad5474",
   "metadata": {},
   "outputs": [],
   "source": [
    "import random\n",
    "\n",
    "\n",
    "def validate_input(input_number): # اینو اینجا میذاریم که بعدا ازش استفاده کنیم\n",
    "    if not input_number.isdigit():\n",
    "        print(\"Invalid input. Please enter a number.\")\n",
    "        return False\n",
    "    \n",
    "    input_num = int(input_number)\n",
    "    if input_number < 1 or input_number > 100:\n",
    "        print(\"Invalid input. Please enter a number between 1 and 100.\")\n",
    "        return False\n",
    "    \n",
    "    return True"
   ]
  },
  {
   "cell_type": "code",
   "execution_count": 10,
   "id": "2c196524",
   "metadata": {},
   "outputs": [
    {
     "ename": "TypeError",
     "evalue": "'<' not supported between instances of 'str' and 'int'",
     "output_type": "error",
     "traceback": [
      "\u001b[31m---------------------------------------------------------------------------\u001b[39m",
      "\u001b[31mTypeError\u001b[39m                                 Traceback (most recent call last)",
      "\u001b[36mCell\u001b[39m\u001b[36m \u001b[39m\u001b[32mIn[10]\u001b[39m\u001b[32m, line 36\u001b[39m\n\u001b[32m     33\u001b[39m         score = \u001b[38;5;28mmax\u001b[39m(score, \u001b[32m0\u001b[39m)\n\u001b[32m     35\u001b[39m \u001b[38;5;28;01mif\u001b[39;00m \u001b[34m__name__\u001b[39m == \u001b[33m\"\u001b[39m\u001b[33m__main__\u001b[39m\u001b[33m\"\u001b[39m:\n\u001b[32m---> \u001b[39m\u001b[32m36\u001b[39m     start_game()\n",
      "\u001b[36mCell\u001b[39m\u001b[36m \u001b[39m\u001b[32mIn[10]\u001b[39m\u001b[32m, line 12\u001b[39m, in \u001b[36mstart_game\u001b[39m\u001b[34m()\u001b[39m\n\u001b[32m      9\u001b[39m     \u001b[38;5;28mprint\u001b[39m(\u001b[33m\"\u001b[39m\u001b[33mGoodbye!\u001b[39m\u001b[33m\"\u001b[39m)\n\u001b[32m     10\u001b[39m     \u001b[38;5;28;01mbreak\u001b[39;00m\n\u001b[32m---> \u001b[39m\u001b[32m12\u001b[39m \u001b[38;5;28;01mif\u001b[39;00m \u001b[38;5;129;01mnot\u001b[39;00m validate_input(input_number):\n\u001b[32m     13\u001b[39m     \u001b[38;5;28;01mcontinue\u001b[39;00m\n\u001b[32m     15\u001b[39m input_number = \u001b[38;5;28mint\u001b[39m(input_number)\n",
      "\u001b[36mCell\u001b[39m\u001b[36m \u001b[39m\u001b[32mIn[8]\u001b[39m\u001b[32m, line 10\u001b[39m, in \u001b[36mvalidate_input\u001b[39m\u001b[34m(input_number)\u001b[39m\n\u001b[32m      7\u001b[39m     \u001b[38;5;28;01mreturn\u001b[39;00m \u001b[38;5;28;01mFalse\u001b[39;00m\n\u001b[32m      9\u001b[39m input_num = \u001b[38;5;28mint\u001b[39m(input_number)\n\u001b[32m---> \u001b[39m\u001b[32m10\u001b[39m \u001b[38;5;28;01mif\u001b[39;00m input_number < \u001b[32m1\u001b[39m \u001b[38;5;129;01mor\u001b[39;00m input_number > \u001b[32m100\u001b[39m:\n\u001b[32m     11\u001b[39m     \u001b[38;5;28mprint\u001b[39m(\u001b[33m\"\u001b[39m\u001b[33mInvalid input. Please enter a number between 1 and 100.\u001b[39m\u001b[33m\"\u001b[39m)\n\u001b[32m     12\u001b[39m     \u001b[38;5;28;01mreturn\u001b[39;00m \u001b[38;5;28;01mFalse\u001b[39;00m\n",
      "\u001b[31mTypeError\u001b[39m: '<' not supported between instances of 'str' and 'int'"
     ]
    }
   ],
   "source": [
    "def start_game():\n",
    "    random_number = random.randint(1, 100)\n",
    "    score = 100\n",
    "\n",
    "    while True:\n",
    "        input_number = input(\"Enter your guess between 1 and 100:\")\n",
    "\n",
    "        if input_number == \"q\":\n",
    "            print(\"Goodbye!\")\n",
    "            break\n",
    "\n",
    "        if not validate_input(input_number):\n",
    "            continue\n",
    "\n",
    "        input_number = int(input_number)\n",
    "        if input_number == random_number:\n",
    "            print(f\"You guessed the correct number! Your score is {score}\")\n",
    "            wanna_play = input(\"Do you want to play again? (y/n)\")\n",
    "            if wanna_play == \"y\":\n",
    "                random_number = random.randint(1, 100)\n",
    "                score = 100\n",
    "                continue\n",
    "            else:\n",
    "                print(\"Goodbye!\")\n",
    "                break\n",
    "        \n",
    "        elif input_number > random_number:\n",
    "            print(\"Your guess is too high. Please try again.\")\n",
    "        else:\n",
    "            print(\"Your guess is too low. Please try again.\")\n",
    "\n",
    "        score -= 10\n",
    "        score = max(score, 0)\n",
    "    \n",
    "if __name__ == \"__main__\":\n",
    "    start_game()"
   ]
  },
  {
   "cell_type": "code",
   "execution_count": null,
   "id": "14dd218d",
   "metadata": {},
   "outputs": [],
   "source": [
    "import random\n",
    "\n",
    "\n",
    "def validate_input(input_number): # اینو اینجا میذاریم که بعدا ازش استفاده کنیم\n",
    "    if not input_number.isdigit():\n",
    "        print(\"Invalid input. Please enter a number.\")\n",
    "        return False\n",
    "    \n",
    "    input_number = int(input_number)\n",
    "    if input_number < 1 or input_number > 100:\n",
    "        print(\"Invalid input. Please enter a number between 1 and 100.\")\n",
    "        return False\n",
    "    \n",
    "    return True\n",
    "\n",
    "def start_game():\n",
    "    random_number = random.randint(1, 100)\n",
    "    score = 100\n",
    "\n",
    "    while True:\n",
    "        input_number = input(\"Enter your guess between 1 and 100:\")\n",
    "\n",
    "        if input_number == \"q\":\n",
    "            print(\"Goodbye!\")\n",
    "            break\n",
    "\n",
    "        if not validate_input(input_number):\n",
    "            continue\n",
    "\n",
    "        input_number = int(input_number)\n",
    "        if input_number == random_number:\n",
    "            print(f\"You guessed the correct number! Your score is {score}\")\n",
    "            wanna_play = input(\"Do you want to play again? (y/n)\")\n",
    "            if wanna_play == \"y\":\n",
    "                random_number = random.randint(1, 100)\n",
    "                score = 100\n",
    "                continue\n",
    "            else:\n",
    "                print(\"Goodbye!\")\n",
    "                break\n",
    "        \n",
    "        elif input_number > random_number:\n",
    "            print(\"Your guess is too high. Please try again.\")\n",
    "        else:\n",
    "            print(\"Your guess is too low. Please try again.\")\n",
    "\n",
    "        score -= 10\n",
    "        score = max(score, 0)\n",
    "    \n",
    "if __name__ == \"__main__\":\n",
    "    start_game()\n"
   ]
  }
 ],
 "metadata": {
  "kernelspec": {
   "display_name": "pbpenv",
   "language": "python",
   "name": "python3"
  },
  "language_info": {
   "codemirror_mode": {
    "name": "ipython",
    "version": 3
   },
   "file_extension": ".py",
   "mimetype": "text/x-python",
   "name": "python",
   "nbconvert_exporter": "python",
   "pygments_lexer": "ipython3",
   "version": "3.11.11"
  }
 },
 "nbformat": 4,
 "nbformat_minor": 5
}
