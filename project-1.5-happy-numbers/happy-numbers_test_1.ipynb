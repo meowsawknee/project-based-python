{
 "cells": [
  {
   "cell_type": "code",
   "execution_count": 9,
   "id": "6e6d76fd",
   "metadata": {},
   "outputs": [],
   "source": [
    "# We strat with an initial number\n",
    "n = 34"
   ]
  },
  {
   "cell_type": "code",
   "execution_count": 10,
   "id": "cbb8e27d",
   "metadata": {},
   "outputs": [
    {
     "name": "stdout",
     "output_type": "stream",
     "text": [
      "25\n",
      "29\n",
      "85\n",
      "89\n",
      "145\n",
      "42\n",
      "20\n",
      "4\n",
      "16\n",
      "37\n",
      "58\n",
      "89\n",
      "145\n",
      "42\n",
      "20\n",
      "4\n",
      "16\n",
      "37\n",
      "58\n",
      "89\n"
     ]
    }
   ],
   "source": [
    "# What are we doing here?\n",
    "# We convert the number to a string so we can loop through each digit,\n",
    "# square each digit and sum the results.\n",
    "# Then we print the outcome in each step.\n",
    "for _ in range(20):\n",
    "    n = sum([int(i) ** 2 for i in str(n)])\n",
    "    print(n)"
   ]
  },
  {
   "cell_type": "code",
   "execution_count": null,
   "id": "96f1bbf7",
   "metadata": {},
   "outputs": [],
   "source": [
    "# Now, based on how this works,\n",
    "# we need to repeat this again and again!\n",
    "# So instead of a fixed number of loops, we use a while loop.\n",
    "# But we only want to this for numbers that don't reach 1 yet.\n",
    "# So we use a friendly condition for the while loop.\n",
    "while n != 1:\n",
    "    n = sum([int(i) ** 2 for i in str(n)])\n",
    "    print(n)"
   ]
  },
  {
   "cell_type": "code",
   "execution_count": null,
   "id": "d62b9828",
   "metadata": {},
   "outputs": [],
   "source": [
    "# We create an empty set to track repeated numbers.\n",
    "# Remember: using {} gives you an empty dicitionary, not a set!\n",
    "# So we use set(). Now we add a condition: if the number is already in the set,\n",
    "# it means we're in a loop -> break.\n",
    "while n != 1 and (n not in seen_numbers):\n",
    "    n = sum([int(i) ** 2 for i in str(n)])\n",
    "    seen_numbers.add(n)"
   ]
  },
  {
   "cell_type": "code",
   "execution_count": null,
   "id": "a2a2d102",
   "metadata": {},
   "outputs": [],
   "source": [
    "n"
   ]
  },
  {
   "cell_type": "code",
   "execution_count": null,
   "id": "28cbef28",
   "metadata": {},
   "outputs": [],
   "source": [
    "# Now let's take everything we did above,\n",
    "# wrap it into a function and call it done!\n",
    "def is_happy(n):\n",
    "    seen_numbers = set()\n",
    "    while n != 1 and (n not in seen_numbers):\n",
    "        seen_numbers.add(n)\n",
    "        n = sum([int(i) ** 2 for i in str(n)])\n",
    "        \n",
    "    return n == 1"
   ]
  },
  {
   "cell_type": "code",
   "execution_count": null,
   "id": "6d7349ca",
   "metadata": {},
   "outputs": [
    {
     "name": "stdout",
     "output_type": "stream",
     "text": [
      "True\n",
      "False\n",
      "True\n",
      "False\n"
     ]
    }
   ],
   "source": [
    "# Let's test it with a few sample numbers\n",
    "print(is_happy(7))  # True\n",
    "print(is_happy(43)) # False\n",
    "print(is_happy(44)) # True\n",
    "print(is_happy(45)) # False"
   ]
  }
 ],
 "metadata": {
  "kernelspec": {
   "display_name": "pbpenv",
   "language": "python",
   "name": "python3"
  },
  "language_info": {
   "codemirror_mode": {
    "name": "ipython",
    "version": 3
   },
   "file_extension": ".py",
   "mimetype": "text/x-python",
   "name": "python",
   "nbconvert_exporter": "python",
   "pygments_lexer": "ipython3",
   "version": "3.11.11"
  }
 },
 "nbformat": 4,
 "nbformat_minor": 5
}
