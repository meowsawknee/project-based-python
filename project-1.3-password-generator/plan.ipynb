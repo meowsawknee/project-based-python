{
 "cells": [
  {
   "cell_type": "code",
   "execution_count": null,
   "id": "433d074b",
   "metadata": {},
   "outputs": [],
   "source": [
    "from abc import ABC, abstractmethod\n",
    "import random\n",
    "\n",
    "class PasswordGenerator(ABC):\n",
    "    @abstractmethod\n",
    "    def generate(self):\n",
    "        pass # از این مطمئن نیستم!"
   ]
  },
  {
   "cell_type": "code",
   "execution_count": null,
   "id": "97068ad9",
   "metadata": {},
   "outputs": [],
   "source": [
    "import string\n",
    "\n",
    "# از آسون به سمت سخت\n",
    "class PinCodeGenerator(PasswordGenerator):\n",
    "    def __init__(self, lentgh: int = 4):\n",
    "        self.lentgh = lentgh\n",
    "    \n",
    "    def generate(self):\n",
    "        return ''.join(random.choice(string.digits) for i in range(self.lentgh))\n",
    "    "
   ]
  },
  {
   "cell_type": "code",
   "execution_count": null,
   "id": "a4168562",
   "metadata": {},
   "outputs": [],
   "source": [
    "\n",
    "class RandomPasswordGenerator(PasswordGenerator):\n",
    "    def __init__(self, lentgh: int = 8, use_symbol: bool = False, use_digit: bool = False):\n",
    "        self.lentgh = lentgh\n",
    "        self.characters = string.ascii_letters\n",
    "        if use_symbol:\n",
    "            self.characters += string.punctuation \n",
    "        if use_digit:\n",
    "            self.characters += string.digits\n",
    "    \n",
    "    def generate(self):\n",
    "        return ''.join()"
   ]
  },
  {
   "cell_type": "code",
   "execution_count": 15,
   "id": "88ec1f6e",
   "metadata": {},
   "outputs": [
    {
     "ename": "SyntaxError",
     "evalue": "non-default argument follows default argument (3622031965.py, line 9)",
     "output_type": "error",
     "traceback": [
      "\u001b[0;36m  Cell \u001b[0;32mIn[15], line 9\u001b[0;36m\u001b[0m\n\u001b[0;31m    def __init__(self, number_of_words, separator=\"-\", capitalization, vocabulary):\u001b[0m\n\u001b[0m                                                       ^\u001b[0m\n\u001b[0;31mSyntaxError\u001b[0m\u001b[0;31m:\u001b[0m non-default argument follows default argument\n"
     ]
    }
   ],
   "source": [
    "import nltk\n",
    "nltk.download('punkt')\n",
    "nltk.download('stopwords')\n",
    "\n",
    "from nltk.corpus import stopwords\n",
    "from nltk.tokenize import word_tokenize\n",
    "\n",
    "class MemorablePasswordGenerator(PasswordGenerator):\n",
    "    def __init__(self, number_of_words, separator=\"-\", capitalization, vocabulary):\n",
    "        self.number_of_words = number_of_words\n",
    "        self.separator = separator\n",
    "        self.capitalization = capitalization\n",
    "        self.vocabulary = vocabulary\n",
    "    def generate(self):\n",
    "        return super().generate() \n"
   ]
  }
 ],
 "metadata": {
  "kernelspec": {
   "display_name": "pbpenv",
   "language": "python",
   "name": "python3"
  },
  "language_info": {
   "codemirror_mode": {
    "name": "ipython",
    "version": 3
   },
   "file_extension": ".py",
   "mimetype": "text/x-python",
   "name": "python",
   "nbconvert_exporter": "python",
   "pygments_lexer": "ipython3",
   "version": "3.11.11"
  }
 },
 "nbformat": 4,
 "nbformat_minor": 5
}
