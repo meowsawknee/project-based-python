{
 "cells": [
  {
   "cell_type": "code",
   "execution_count": 9,
   "id": "41264384",
   "metadata": {},
   "outputs": [],
   "source": [
    "# computer.py\n",
    "\n",
    "import random\n",
    "\n",
    "def get_computer_choice() -> str:\n",
    "\n",
    "    \"\"\"\n",
    "    Randomly select one of the three options: 'rock', 'paper', or 'scissors'\n",
    "\n",
    "    Returns:\n",
    "        str: The computer's choice\n",
    "    \"\"\"\n",
    "\n",
    "    choices = [\"rock\", \"paper\", \"scissors\"]\n",
    "    return random.choice(choices)\n"
   ]
  },
  {
   "cell_type": "code",
   "execution_count": 10,
   "id": "6d5de488",
   "metadata": {},
   "outputs": [
    {
     "data": {
      "text/plain": [
       "'scissors'"
      ]
     },
     "execution_count": 10,
     "metadata": {},
     "output_type": "execute_result"
    }
   ],
   "source": [
    "get_computer_choice()"
   ]
  },
  {
   "cell_type": "code",
   "execution_count": 12,
   "id": "a708744c",
   "metadata": {},
   "outputs": [],
   "source": [
    "# player.py\n",
    "\n",
    "def get_user_input() -> str:\n",
    "    \n",
    "    \"\"\"\n",
    "    Prompt the user to enter their choice and validate the input.\n",
    "    Only accepts 'rock', 'paper', 'scissors', or 'q' (to quit).\n",
    "    \n",
    "    Returns:\n",
    "        str: The validated user choice.\n",
    "    \"\"\"\n",
    "\n",
    "    valid_choices = [\"rock\", \"paper\", \"scissors\", \"q\"]\n",
    "\n",
    "    while True:\n",
    "        choice = input(\"Enter your choice (rock/paper/scissors or 'q' to quit): \").lower()\n",
    "\n",
    "        if choice in valid_choices:\n",
    "            return choice\n",
    "        else:\n",
    "            print(\"❌ Invalid input. Please type: rock, paper, scissors, or q.\")"
   ]
  },
  {
   "cell_type": "code",
   "execution_count": 35,
   "id": "89e15d7d",
   "metadata": {},
   "outputs": [],
   "source": [
    "class RockPaperScissors:\n",
    "    \"\"\"\n",
    "    Main game engine for Rock-Paper-Scissors.\n",
    "\n",
    "    Attributes:\n",
    "        user_score (int): Score of the user.\n",
    "        computer_score (int): Score of the computer.\n",
    "    \"\"\"\n",
    "\n",
    "    def __init__(self):\n",
    "        \"\"\"Initialize scores for user and computer.\"\"\"\n",
    "        self.user_score = 0\n",
    "        self.computer_score = 0\n",
    "\n",
    "    def determine_winner(self, user_choice: str, computer_choice: str) -> str:\n",
    "        \"\"\"\n",
    "        Determine the winner of a single round.\n",
    "\n",
    "        Args:\n",
    "            user_choice (str): User's move.\n",
    "            computer_choice (str): Computer's move.\n",
    "\n",
    "        Returns:\n",
    "            str: 'user', 'computer', or 'tie'\n",
    "\n",
    "        \"\"\"\n",
    "        win_conditions = {\n",
    "            \"rock\": \"scissors\",\n",
    "            \"scissors\": \"paper\",\n",
    "            \"paper\": \"rock\"\n",
    "        }\n",
    "\n",
    "        if user_choice == computer_choice:\n",
    "            return \"tie\"\n",
    "        elif win_conditions[user_choice] == computer_choice:\n",
    "            return \"user\"\n",
    "        else:\n",
    "            return \"computer\"\n",
    "        \n",
    "    def play_round(self, user_choice: str, computer_choice: str) -> str:\n",
    "        \"\"\"\n",
    "        Play a single round and update scores.\n",
    "\n",
    "        Args:\n",
    "            user_choice (str): User's move\n",
    "            computer_choice (str): Computer's move.\n",
    "\n",
    "        Returns:\n",
    "            str: The outcome of the round.\n",
    "        \"\"\"\n",
    "        winner = self.determine_winner(user_choice, computer_choice)\n",
    "\n",
    "        if winner == \"user\":\n",
    "            self.user_score += 1\n",
    "            print(\"✅ You win this round!\")\n",
    "        elif winner == \"computer\":\n",
    "            self.computer_score += 1\n",
    "            print(\"💻 Computer wins this round!\")\n",
    "        else:\n",
    "            print(\"🤝 It's a tie!\")\n",
    "\n",
    "        print(f\"Score → You: {self.user_score} | Computer: {self.computer_score}\")\n",
    "        return winner\n"
   ]
  },
  {
   "cell_type": "code",
   "execution_count": 7,
   "id": "25e38923",
   "metadata": {},
   "outputs": [
    {
     "ename": "SyntaxError",
     "evalue": "invalid syntax (2977556665.py, line 8)",
     "output_type": "error",
     "traceback": [
      "\u001b[0;36m  Cell \u001b[0;32mIn[7], line 8\u001b[0;36m\u001b[0m\n\u001b[0;31m    def\u001b[0m\n\u001b[0m        ^\u001b[0m\n\u001b[0;31mSyntaxError\u001b[0m\u001b[0;31m:\u001b[0m invalid syntax\n"
     ]
    }
   ],
   "source": [
    "import unittest\n",
    "from game.engine import RockPaperScissors\n",
    "\n",
    "class TestRockPaperScissors(unittest.TestCase):\n",
    "    def setUp(self):\n",
    "        self.game = RockPaperScissors()\n",
    "\n",
    "    def "
   ]
  }
 ],
 "metadata": {
  "kernelspec": {
   "display_name": "pbpenv",
   "language": "python",
   "name": "python3"
  },
  "language_info": {
   "codemirror_mode": {
    "name": "ipython",
    "version": 3
   },
   "file_extension": ".py",
   "mimetype": "text/x-python",
   "name": "python",
   "nbconvert_exporter": "python",
   "pygments_lexer": "ipython3",
   "version": "3.11.11"
  }
 },
 "nbformat": 4,
 "nbformat_minor": 5
}
