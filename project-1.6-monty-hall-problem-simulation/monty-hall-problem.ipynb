{
 "cells": [
  {
   "cell_type": "code",
   "execution_count": 3,
   "id": "a74e624c",
   "metadata": {},
   "outputs": [],
   "source": [
    "# Monty hall problem \n",
    "# بعد از هفت هشت روز آوارگی و شروع جنگ بین ایران اسرائیل و آمریکا\n",
    "# در بحبوحه قطع کامل اینترنت و دسترسی صفر به اینترنت.\n",
    "# مجبوریم به کد زدن و شاید تنها راه فرار ماس."
   ]
  },
  {
   "cell_type": "code",
   "execution_count": 1,
   "id": "07bc871e",
   "metadata": {},
   "outputs": [],
   "source": [
    "# خب ببین من باید لیستی از انتخابا تعریف کنم\n",
    "# رندم دات چویس رو امپورت کنم و ازش استفاده کنم.\n",
    "# این میشه اون سه در درسته؟\n",
    "# حالا بیام از کاربر اینپوت بگیرم؟\n",
    "# و بعدش  چطور به ببرنامه بگم دری که بز توش هست رو ریویل کن؟\n",
    "# اها حتما یه در بز داره دیگه درسته؟\n",
    "# خب بعدش باید ازش دوباره اینپوت بگیریم که ایا همینو میخوای یا میخوای اون یکی رو انتخاب کنی؟\n",
    "# اما یه سوال دارم الان رفیق\n",
    "# چطور برنامه میفهمه که کدوم رو انتخاب کرده کاربر؟"
   ]
  },
  {
   "cell_type": "code",
   "execution_count": null,
   "id": "d0761f23",
   "metadata": {},
   "outputs": [],
   "source": []
  }
 ],
 "metadata": {
  "kernelspec": {
   "display_name": "pbpenv",
   "language": "python",
   "name": "python3"
  },
  "language_info": {
   "codemirror_mode": {
    "name": "ipython",
    "version": 3
   },
   "file_extension": ".py",
   "mimetype": "text/x-python",
   "name": "python",
   "nbconvert_exporter": "python",
   "pygments_lexer": "ipython3",
   "version": "3.11.11"
  }
 },
 "nbformat": 4,
 "nbformat_minor": 5
}
