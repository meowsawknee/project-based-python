{
 "cells": [
  {
   "cell_type": "code",
   "execution_count": 3,
   "id": "a74e624c",
   "metadata": {},
   "outputs": [],
   "source": [
    "# Monty hall problem \n",
    "# بعد از هفت هشت روز آوارگی و شروع جنگ بین ایران اسرائیل و آمریکا\n",
    "# در بحبوحه قطع کامل اینترنت و دسترسی صفر به اینترنت.\n",
    "# مجبوریم به کد زدن و شاید تنها راه فرار ماس."
   ]
  },
  {
   "cell_type": "code",
   "execution_count": 1,
   "id": "07bc871e",
   "metadata": {},
   "outputs": [],
   "source": [
    "# خب ببین من باید لیستی از انتخابا تعریف کنم\n",
    "# رندم دات چویس رو امپورت کنم و ازش استفاده کنم.\n",
    "# این میشه اون سه در درسته؟\n",
    "# حالا بیام از کاربر اینپوت بگیرم؟\n",
    "# و بعدش  چطور به ببرنامه بگم دری که بز توش هست رو ریویل کن؟\n",
    "# اها حتما یه در بز داره دیگه درسته؟\n",
    "# خب بعدش باید ازش دوباره اینپوت بگیریم که ایا همینو میخوای یا میخوای اون یکی رو انتخاب کنی؟\n",
    "# اما یه سوال دارم الان رفیق\n",
    "# چطور برنامه میفهمه که کدوم رو انتخاب کرده کاربر؟"
   ]
  },
  {
   "cell_type": "code",
   "execution_count": 16,
   "id": "d0761f23",
   "metadata": {},
   "outputs": [],
   "source": [
    "import random\n",
    "\n",
    "def simulate_game(switch: bool) -> bool:\n",
    "    \"\"\"Simulates one round of the Monty Hall problem.\n",
    "\n",
    "    :param switch: Whether the player decides to switch their choice after the host reveals a goat.\n",
    "    :type switch: bool\n",
    "    :return: True if the player wins the car, False otherwise.\n",
    "    :rtype: bool\n",
    "    \"\"\"\n",
    "    # Create a list of doors with 2 goats and 1 car\n",
    "    doors = ['car', 'goat', 'goat']\n",
    "    random.shuffle(doors)\n",
    "\n",
    "    # Simulate the player's initial random choice (0, 1, or 2)\n",
    "    player_choice = random.choice([0, 1, 2])\n",
    "\n",
    "    # Find doors that the host can reveal (not chosen by player and not the car)\n",
    "    possible_doors_to_reveal = [i for i in range(3) if i != player_choice and doors[i] == 'goat']\n",
    "    host_reveal_door = random.choice(possible_doors_to_reveal)\n",
    "    # possible_doors_to_reveal = []\n",
    "    # for i in range(3):\n",
    "    #     if i != player_choice and doors[i] == 'goat':\n",
    "    #         possible_doors_to_reveal.append(i)\n",
    "\n",
    "    # Determine final choice: switch or stay\n",
    "    if switch:\n",
    "        # Only one remaining door that is not player's original or host's reveal\n",
    "        final_choice = [i for i in range(3) if i != player_choice and i != host_reveal_door][0]\n",
    "    else:\n",
    "        final_choice = player_choice\n",
    "    \n",
    "    # Return whether the final choice was the car\n",
    "    return doors[final_choice] == 'car'"
   ]
  },
  {
   "cell_type": "code",
   "execution_count": 80,
   "id": "7352de84",
   "metadata": {},
   "outputs": [
    {
     "data": {
      "text/plain": [
       "False"
      ]
     },
     "execution_count": 80,
     "metadata": {},
     "output_type": "execute_result"
    }
   ],
   "source": [
    "simulate_game(False)"
   ]
  },
  {
   "cell_type": "code",
   "execution_count": 97,
   "id": "81fe2c23",
   "metadata": {},
   "outputs": [
    {
     "data": {
      "text/plain": [
       "True"
      ]
     },
     "execution_count": 97,
     "metadata": {},
     "output_type": "execute_result"
    }
   ],
   "source": [
    "simulate_game(True)"
   ]
  }
 ],
 "metadata": {
  "kernelspec": {
   "display_name": "pbpenv",
   "language": "python",
   "name": "python3"
  },
  "language_info": {
   "codemirror_mode": {
    "name": "ipython",
    "version": 3
   },
   "file_extension": ".py",
   "mimetype": "text/x-python",
   "name": "python",
   "nbconvert_exporter": "python",
   "pygments_lexer": "ipython3",
   "version": "3.11.11"
  }
 },
 "nbformat": 4,
 "nbformat_minor": 5
}
