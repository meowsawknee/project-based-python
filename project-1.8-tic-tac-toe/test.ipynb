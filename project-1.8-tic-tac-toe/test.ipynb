{
 "cells": [
  {
   "cell_type": "code",
   "execution_count": 13,
   "id": "582168e8",
   "metadata": {},
   "outputs": [],
   "source": [
    "# - Class TicTacToe\n",
    "#     - __init__\n",
    "#     - get_random_first_player\n",
    "#     - fix_spot : mark board\n",
    "#     - has_player_won(self, player)\n",
    "#     - is_board_filled\n",
    "#     - swap_player_turn\n",
    "#     - show_board -> update board"
   ]
  },
  {
   "cell_type": "code",
   "execution_count": null,
   "id": "9a808e01",
   "metadata": {},
   "outputs": [],
   "source": [
    "import random\n",
    "\n",
    "\n",
    "class TicTacToe:\n",
    "    def __init__(self):\n",
    "        self.board = [\" \"] * 10 # list(map(str, range(10)))\n",
    "        self.player_turn = self.get_random_first_player()\n",
    "\n",
    "    def get_random_first_player(self):\n",
    "        return random.choice([\"X\", \"O\"])\n",
    "    \n",
    "    def show_board(self):\n",
    "        print(\"\\n\")\n",
    "        print(self.board[1] + \"|\" + self.board[2] + \"|\" + self.board[3])\n",
    "        print(\"-----\")\n",
    "        print(self.board[4] + \"|\" + self.board[5] + \"|\" + self.board[6])\n",
    "        print(\"-----\")\n",
    "        print(self.board[7] + \"|\" + self.board[8] + \"|\" + self.board[9])\n",
    "        print(\"\\n\")\n",
    "    \n",
    "    def swap_player_turn(self):\n",
    "        self.player_turn = \"X\" if self.player_turn == \"O\" else \"O\"\n",
    "        return self.player_turn\n",
    "\n",
    "    def is_board_filled(self):\n",
    "        return \" \" not in self.board[1:]\n",
    "    \n",
    "    def fix_spot(self, cell, player):\n",
    "        self.board[cell] = player\n",
    "    \n",
    "    def has_player_won(self, player):\n",
    "        win_combinations = [\n",
    "            [1, 2, 3], [4, 5, 6], [7, 8, 9], # rows\n",
    "            [1, 4, 7], [2, 5, 8], [3, 6, 9], # columns\n",
    "            [1, 5, 9], [3, 5, 7] # diagonals\n",
    "        ]\n",
    "        for combination in win_combinations:\n",
    "            if all(self.board[cell] == player for cell in combination):\n",
    "                return True\n",
    "        \n",
    "        return False\n",
    "    \n",
    "    def start(self):\n",
    "        while True:\n",
    "            self.show_board()\n",
    "            print(f\"Player {self.player_turn} turn!\")\n",
    "            cell = int(input(\"Enter cell number from 1 to 9: \"))\n",
    "\n",
    "            if self.board[cell] == \" \" and cell in range(1, 10):\n",
    "                self.fix_spot(cell, self.player_turn)\n",
    "\n",
    "                if self.has_player_won(self.player_turn):\n",
    "                    self.show_board()\n",
    "                    print(f\"Player {self.player_turn} won!\")\n",
    "                    break\n",
    "\n",
    "                if self.is_board_filled():\n",
    "                    print(\"Draw!\")\n",
    "                    break\n",
    "\n",
    "            else:\n",
    "                print(\"Invalid cell number\")\n",
    "\n",
    "\n",
    "\n",
    "    "
   ]
  },
  {
   "cell_type": "code",
   "execution_count": 3,
   "id": "3a723781",
   "metadata": {},
   "outputs": [],
   "source": [
    "game = TicTacToe()"
   ]
  },
  {
   "cell_type": "code",
   "execution_count": 4,
   "id": "0dfbd9b7",
   "metadata": {},
   "outputs": [
    {
     "data": {
      "text/plain": [
       "'X'"
      ]
     },
     "execution_count": 4,
     "metadata": {},
     "output_type": "execute_result"
    }
   ],
   "source": [
    "game.get_random_first_player()\n"
   ]
  },
  {
   "cell_type": "code",
   "execution_count": 5,
   "id": "f7680474",
   "metadata": {},
   "outputs": [
    {
     "data": {
      "text/plain": [
       "'O'"
      ]
     },
     "execution_count": 5,
     "metadata": {},
     "output_type": "execute_result"
    }
   ],
   "source": [
    "game.swap_player_turn()"
   ]
  },
  {
   "cell_type": "code",
   "execution_count": 6,
   "id": "45afb201",
   "metadata": {},
   "outputs": [
    {
     "data": {
      "text/plain": [
       "[' ', ' ', ' ', ' ', ' ', ' ', ' ', ' ', ' ', ' ']"
      ]
     },
     "execution_count": 6,
     "metadata": {},
     "output_type": "execute_result"
    }
   ],
   "source": [
    "game.board"
   ]
  },
  {
   "cell_type": "code",
   "execution_count": 7,
   "id": "dabf45bf",
   "metadata": {},
   "outputs": [
    {
     "name": "stdout",
     "output_type": "stream",
     "text": [
      "\n",
      "\n",
      " | | \n",
      "-----\n",
      " | | \n",
      "-----\n",
      " | | \n",
      "\n",
      "\n"
     ]
    }
   ],
   "source": [
    "game.show_board()"
   ]
  },
  {
   "cell_type": "code",
   "execution_count": 9,
   "id": "6a7e0ebd",
   "metadata": {},
   "outputs": [],
   "source": [
    "game.fix_spot(1, \"O\")\n",
    "game.fix_spot(2, \"O\")\n",
    "game.fix_spot(3, \"O\")"
   ]
  },
  {
   "cell_type": "code",
   "execution_count": 11,
   "id": "ecab6711",
   "metadata": {},
   "outputs": [
    {
     "data": {
      "text/plain": [
       "False"
      ]
     },
     "execution_count": 11,
     "metadata": {},
     "output_type": "execute_result"
    }
   ],
   "source": [
    "game.has_player_won(\"X\")"
   ]
  }
 ],
 "metadata": {
  "kernelspec": {
   "display_name": "pbpenv",
   "language": "python",
   "name": "python3"
  },
  "language_info": {
   "codemirror_mode": {
    "name": "ipython",
    "version": 3
   },
   "file_extension": ".py",
   "mimetype": "text/x-python",
   "name": "python",
   "nbconvert_exporter": "python",
   "pygments_lexer": "ipython3",
   "version": "3.11.11"
  }
 },
 "nbformat": 4,
 "nbformat_minor": 5
}
