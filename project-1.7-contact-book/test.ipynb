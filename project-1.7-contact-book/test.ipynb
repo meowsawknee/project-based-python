{
 "cells": [
  {
   "cell_type": "code",
   "execution_count": null,
   "id": "c4075014",
   "metadata": {},
   "outputs": [],
   "source": [
    "{\n",
    "    \"49375493\": {\n",
    "        \"name\": \"Ali\",\n",
    "        \"email\": \"ldsfls@gmail.com\",\n",
    "        \"country\": \"canada\"\n",
    "    },\n",
    "    \"3425954\": {\n",
    "        \"name\": \"Hossein\",\n",
    "        \"email\": \"heowsawknee@gmail.com\",\n",
    "        \"country\": \"iran\"\n",
    "    }\n",
    "}"
   ]
  },
  {
   "cell_type": "code",
   "execution_count": null,
   "id": "db01d0d3",
   "metadata": {},
   "outputs": [],
   "source": [
    "class ContactBook:\n",
    "    def __init__(self):\n",
    "        self.contacts = {}\n",
    "    \n",
    "    def add_contact(self, id_number, name, email, country=None, address=None, phone=None):\n",
    "        if id_number in self.contacts:\n",
    "            print(\"Contact Already Exists!\")\n",
    "            return\n",
    "        \n",
    "        self.contacts[id_number] ={\n",
    "            \"name\": name,\n",
    "            \"email\": email,\n",
    "            \"country\": country,\n",
    "            \"address\": address,\n",
    "            \"phone\": phone\n",
    "        }\n",
    "    \n",
    "    def view_contacts(self):\n",
    "        for id_number, info in self.contacts.items():\n",
    "            print(f'Name: {info[\"name\"]}')\n",
    "            print(f'ID: {id_number}')\n",
    "            print(f'Email: {info[\"email\"]}')\n",
    "            print(f'Country: {info[\"country\"]}')\n",
    "            print(f'Address: {info[\"address\"]}')\n",
    "            print(f'Phone: {info[\"phone\"]}')\n",
    "            print(\"-\" * 30)\n",
    "        \n",
    "    def delete_contact(self, id_number):\n",
    "        if id_number in self.contacts:\n",
    "            del self.contacts[id_number]\n",
    "            print(\"Contact deleted successfully!\")\n",
    "        else:\n",
    "            print(\"There is no contact with this ID!\")\n",
    "\n",
    "    def update_contact(self, id_number, name=None, email=None, country=None, address=None, phone=None):\n",
    "        if id_number in self.contacts:\n",
    "            if name:\n",
    "                self.contacts[id_number][\"name\"] = name\n",
    "            if email:\n",
    "                self.contacts[id_number][\"email\"] = email\n",
    "            if country:\n",
    "                self.contacts[id_number][\"country\"] = country\n",
    "            if address:\n",
    "                self.contacts[id_number][\"address\"] = address\n",
    "            if phone:\n",
    "                self.contacts[id_number][\"phone\"] = phone\n",
    "            \n",
    "            print(\"Contact updated successfully!\")\n",
    "            return\n",
    "        \n",
    "        print(\"Contact not found!\")"
   ]
  },
  {
   "cell_type": "code",
   "execution_count": null,
   "id": "511e3b9a",
   "metadata": {},
   "outputs": [],
   "source": [
    "book = ContactBook()\n",
    "\n",
    "while True:\n",
    "    print(\"\\nWelcome to contact book application!\")\n",
    "    print(\"1. Add Contact\")\n",
    "    print(\"2. Edit Contact\")\n",
    "    print(\"3. View Contact\")\n",
    "    print(\"4. Delete Contact\")\n",
    "    print(\"5. Quit\")\n",
    "\n",
    "    user_choice = input(\"Please choose an option\")\n",
    "\n",
    "    if user_choice == \"5\":\n",
    "        break\n",
    "\n",
    "    elif user_choice == \"1\":\n",
    "        id_number = input(\"Enter Contact ID: \")\n",
    "        name = input(\"Enter contact name: \")\n",
    "        email = input(\"Enter contat Email: \")\n",
    "        country = input(\"Enter contact Country: \")\n",
    "        address = input(\"Enter contact Address: \")\n",
    "        phone = input(\"Enter contact Phone Number: \")\n",
    "\n",
    "        book.add_contact(id_number, name, email, country, address, phone)\n",
    "    \n",
    "    elif user_choice == \"2\":\n",
    "        print(\"Edit msg\")\n",
    "        id_number = input(\"Enter Contact ID: \")\n",
    "        name = input(\"Enter contact name: \")\n",
    "        email = input(\"Enter contat Email: \")\n",
    "        country = input(\"Enter contact Country: \")\n",
    "        address = input(\"Enter contact Address: \")\n",
    "        phone = input(\"Enter contact Phone Number: \")\n",
    "\n",
    "        book.update_contact(id_number, name, email, country, address, phone)\n",
    "    \n",
    "    elif user_choice == \"3\":\n",
    "        print(\"List of Contacts: \")\n",
    "        book.view_contacts()\n",
    "    \n",
    "    elif user_choice == \"4\":\n",
    "        id_number = input(\"Enter contact ID: \")\n",
    "        book.delete_contact(id_number)"
   ]
  },
  {
   "cell_type": "code",
   "execution_count": null,
   "id": "43cc0b56",
   "metadata": {},
   "outputs": [],
   "source": [
    "book = ContactBook()"
   ]
  },
  {
   "cell_type": "code",
   "execution_count": null,
   "id": "8ab717bf",
   "metadata": {},
   "outputs": [],
   "source": [
    "book.delete_contact(\"234\")"
   ]
  },
  {
   "cell_type": "code",
   "execution_count": null,
   "id": "8097e356",
   "metadata": {},
   "outputs": [],
   "source": [
    "book.add_contact(\n",
    "    name=\"Hossein\",\n",
    "    phone=\"123-456-789\",\n",
    "    email=\"meowsawknee@gmail.com\",\n",
    "    id_number=\"3334\"\n",
    ")\n"
   ]
  },
  {
   "cell_type": "code",
   "execution_count": null,
   "id": "1c635bae",
   "metadata": {},
   "outputs": [],
   "source": [
    "book.add_contact(\n",
    "    name=\"George\",\n",
    "    phone=\"123-456-789\",\n",
    "    email=\"meowsawknee@gmail.com\",\n",
    "    id_number=\"3333\"\n",
    ")\n"
   ]
  },
  {
   "cell_type": "code",
   "execution_count": null,
   "id": "f1fb0ca5",
   "metadata": {},
   "outputs": [],
   "source": [
    "book.view_contacts()"
   ]
  },
  {
   "cell_type": "code",
   "execution_count": null,
   "id": "6c1fc533",
   "metadata": {},
   "outputs": [],
   "source": [
    "book.update_contact(\n",
    "    '3333',\n",
    "    phone=\"000-999-555\",\n",
    "    country=\"netherland\"\n",
    ")"
   ]
  },
  {
   "cell_type": "code",
   "execution_count": null,
   "id": "8bca2e3e",
   "metadata": {},
   "outputs": [],
   "source": [
    "book.view_contacts()"
   ]
  }
 ],
 "metadata": {
  "kernelspec": {
   "display_name": "pbpenv",
   "language": "python",
   "name": "python3"
  },
  "language_info": {
   "codemirror_mode": {
    "name": "ipython",
    "version": 3
   },
   "file_extension": ".py",
   "mimetype": "text/x-python",
   "name": "python",
   "nbconvert_exporter": "python",
   "pygments_lexer": "ipython3",
   "version": "3.11.11"
  }
 },
 "nbformat": 4,
 "nbformat_minor": 5
}
